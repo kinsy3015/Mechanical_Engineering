{
 "cells": [
  {
   "cell_type": "code",
   "execution_count": 2,
   "id": "6676c10a-e317-44b7-9270-8d165e4b459b",
   "metadata": {},
   "outputs": [],
   "source": [
    "import numpy as np"
   ]
  },
  {
   "cell_type": "code",
   "execution_count": 43,
   "id": "2109bf28-2d96-42c5-bd8a-04061dedfe3c",
   "metadata": {},
   "outputs": [
    {
     "name": "stdout",
     "output_type": "stream",
     "text": [
      "∂f/∂x at x[10]: 20.2020202020202\n",
      "∂f2/∂x at x=10: 20.2020202020202\n",
      "∂f3/∂x at x=10: 20.2020202020202\n",
      "∂f2/∂x at x=10: 20.2020202020202\n",
      "∂f3/∂x at x=10: 20.2020202020202\n",
      "gradient of fill_array2 shape: [(3, 3, 3), (3, 3, 3), (3, 3, 3)]\n"
     ]
    }
   ],
   "source": [
    "import numpy as np\n",
    "\n",
    "# 3x3x3 어레이 초기화\n",
    "default_array = np.zeros((3, 3, 3))\n",
    "fill_array2 = np.full((3, 3, 3), 6)\n",
    "\n",
    "# 100x100x100 격자 생성\n",
    "x = np.linspace(0, 100, 100)\n",
    "y = np.linspace(0, 100, 100)\n",
    "z = np.linspace(0, 100, 100)\n",
    "\n",
    "# 3D 메쉬 그리드\n",
    "X2, Y2 = np.meshgrid(x, y, indexing='ij')\n",
    "X3, Y3, Z3 = np.meshgrid(x, y, z, indexing='ij')\n",
    "\n",
    "# 스칼라 필드 정의\n",
    "f = x**2                              # 1D 스칼라 필드\n",
    "f2 = X2**2 + Y2**2                      # 2D 스칼라 필드\n",
    "f3 = X3**2 + Y3**2 + Z3**2               # 3D 스칼라 필드\n",
    "\n",
    "# Gradient 계산\n",
    "dfdx = np.gradient(f, x)             # 1D gradient\n",
    "dfdx2, dfdy2 = np.gradient(f2, x, y, edge_order=2)  # 2D gradient\n",
    "dfdx3, dfdy3, dfdz3 = np.gradient(f3, x, y, z, edge_order=2)  # 3D gradient\n",
    "\n",
    "# 결과 확인\n",
    "print(\"∂f/∂x at x[10]:\", dfdx[10])\n",
    "print(\"∂f2/∂x at x=10:\", dfdx2[10, 0])  # 3D 배열이라 슬라이싱 필요\n",
    "print(\"∂f3/∂x at x=10:\", dfdx3[10, 0, 0])\n",
    "print(\"∂f2/∂x at x=10:\", dfdy2[0, 10])  # 3D 배열이라 슬라이싱 필요\n",
    "print(\"∂f3/∂x at x=10:\", dfdy3[0, 10, 0])\n",
    "\n",
    "# 정의된 배열로 gradient 수행\n",
    "grad_default = np.gradient(fill_array2)  # 또는 default_array\n",
    "print(\"gradient of fill_array2 shape:\", [g.shape for g in grad_default])\n"
   ]
  },
  {
   "cell_type": "code",
   "execution_count": 47,
   "id": "8543f084-c33e-40e3-a9db-ec5cd36d9a95",
   "metadata": {},
   "outputs": [
    {
     "name": "stdout",
     "output_type": "stream",
     "text": [
      "∂f/∂x at center: 20.0\n",
      "∂f/∂y at center: 20.0\n",
      "∂f/∂z at center: 20.0\n"
     ]
    }
   ],
   "source": [
    "def compute_3d_gradient(f, dx, dy, dz):\n",
    "    \"\"\"\n",
    "    f : 3D 스칼라 필드 (numpy array, shape = [Nx, Ny, Nz])\n",
    "    dx, dy, dz : 각 방향의 격자 간격\n",
    "    return : gradient (gx, gy, gz) 각 방향의 미분 결과\n",
    "    \"\"\"\n",
    "    gx = np.zeros_like(f)\n",
    "    gy = np.zeros_like(f)\n",
    "    gz = np.zeros_like(f)\n",
    "\n",
    "    # 중심 차분 내부\n",
    "    gx[1:-1, :, :] = (f[2:, :, :] - f[:-2, :, :]) / (2 * dx)\n",
    "    gy[:, 1:-1, :] = (f[:, 2:, :] - f[:, :-2, :]) / (2 * dy)\n",
    "    gz[:, :, 1:-1] = (f[:, :, 2:] - f[:, :, :-2]) / (2 * dz)\n",
    "\n",
    "    # 전/후방 차분 (경계 처리)\n",
    "    gx[0, :, :] = (f[1, :, :] - f[0, :, :]) / dx\n",
    "    gx[-1, :, :] = (f[-1, :, :] - f[-2, :, :]) / dx\n",
    "\n",
    "    gy[:, 0, :] = (f[:, 1, :] - f[:, 0, :]) / dy\n",
    "    gy[:, -1, :] = (f[:, -1, :] - f[:, -2, :]) / dy\n",
    "\n",
    "    gz[:, :, 0] = (f[:, :, 1] - f[:, :, 0]) / dz\n",
    "    gz[:, :, -1] = (f[:, :, -1] - f[:, :, -2]) / dz\n",
    "\n",
    "    return gx, gy, gz\n",
    "# 격자 크기\n",
    "Nx, Ny, Nz = 100, 100, 100\n",
    "dx = dy = dz = 1\n",
    "\n",
    "# 격자 생성\n",
    "x = np.linspace(0, dx*(Nx-1), Nx)\n",
    "y = np.linspace(0, dy*(Ny-1), Ny)\n",
    "z = np.linspace(0, dz*(Nz-1), Nz)\n",
    "X, Y, Z = np.meshgrid(x, y, z, indexing='ij')\n",
    "\n",
    "# 스칼라 필드 정의: f(x, y, z) = x^2 + y^2 + z^2\n",
    "f = X**2 + Y**2 + Z**2\n",
    "\n",
    "# gradient 계산\n",
    "gx, gy, gz = compute_3d_gradient(f, dx, dy, dz)\n",
    "\n",
    "# 특정 포인트의 결과 확인\n",
    "print(\"∂f/∂x at center:\", gx[10, 0, 0])  # ≈ 2x\n",
    "print(\"∂f/∂y at center:\", gy[0, 10, 0])  # ≈ 2y\n",
    "print(\"∂f/∂z at center:\", gz[0, 0, 10])  # ≈ 2z dd\n"
   ]
  },
  {
   "cell_type": "code",
   "execution_count": null,
   "id": "24064a10-f51c-41ec-8dc4-ed544ba7eab5",
   "metadata": {},
   "outputs": [],
   "source": []
  }
 ],
 "metadata": {
  "kernelspec": {
   "display_name": "Python 3 (ipykernel)",
   "language": "python",
   "name": "python3"
  },
  "language_info": {
   "codemirror_mode": {
    "name": "ipython",
    "version": 3
   },
   "file_extension": ".py",
   "mimetype": "text/x-python",
   "name": "python",
   "nbconvert_exporter": "python",
   "pygments_lexer": "ipython3",
   "version": "3.12.4"
  }
 },
 "nbformat": 4,
 "nbformat_minor": 5
}
