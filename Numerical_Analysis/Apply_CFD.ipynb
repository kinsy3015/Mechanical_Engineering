{
 "cells": [
  {
   "cell_type": "code",
   "execution_count": 4,
   "id": "6676c10a-e317-44b7-9270-8d165e4b459b",
   "metadata": {},
   "outputs": [],
   "source": [
    "import numpy as np\n",
    "import matplotlib.pyplot as plt\n",
    "from scipy.ndimage import laplace #Image, 2D Data Filter"
   ]
  },
  {
   "cell_type": "code",
   "execution_count": 7,
   "id": "2109bf28-2d96-42c5-bd8a-04061dedfe3c",
   "metadata": {},
   "outputs": [
    {
     "name": "stdout",
     "output_type": "stream",
     "text": [
      "∂f/∂x at x[10]: 20.0\n",
      "∂f2/∂x at x=10: 20.0\n",
      "∂f3/∂x at x=10: 20.0\n",
      "∂f2/∂x at x=10: 20.0\n",
      "∂f3/∂x at x=10: 20.0\n",
      "gradient of fill_array2 shape: [(3, 3, 3), (3, 3, 3), (3, 3, 3)]\n"
     ]
    }
   ],
   "source": [
    "# 3x3x3 어레이 초기화\n",
    "default_array = np.zeros((3, 3, 3))\n",
    "fill_array2 = np.full((3, 3, 3), 6)\n",
    "\n",
    "# 100x100x100 격자 생성\n",
    "x = np.linspace(0, 99, 100)\n",
    "y = np.linspace(0, 99, 100)\n",
    "z = np.linspace(0, 99, 100)\n",
    "\n",
    "# 3D 메쉬 그리드\n",
    "X2, Y2 = np.meshgrid(x, y, indexing='ij')\n",
    "X3, Y3, Z3 = np.meshgrid(x, y, z, indexing='ij')\n",
    "\n",
    "# 스칼라 필드 정의\n",
    "f = x**2                              # 1D 스칼라 필드\n",
    "f2 = X2**2 + Y2**2                      # 2D 스칼라 필드\n",
    "f3 = X3**2 + Y3**2 + Z3**2               # 3D 스칼라 필드\n",
    "\n",
    "# Gradient 계산\n",
    "dfdx = np.gradient(f, x)             # 1D gradient\n",
    "dfdx2, dfdy2 = np.gradient(f2, x, y, edge_order=2)  # 2D gradient\n",
    "dfdx3, dfdy3, dfdz3 = np.gradient(f3, x, y, z, edge_order=2)  # 3D gradient\n",
    "\n",
    "# 결과 확인\n",
    "print(\"∂f/∂x at x[10]:\", dfdx[10])\n",
    "print(\"∂f2/∂x at x=10:\", dfdx2[10, 0])  # 3D 배열이라 슬라이싱 필요\n",
    "print(\"∂f3/∂x at x=10:\", dfdx3[10, 0, 0])\n",
    "print(\"∂f2/∂x at x=10:\", dfdy2[0, 10])  # 3D 배열이라 슬라이싱 필요\n",
    "print(\"∂f3/∂x at x=10:\", dfdy3[0, 10, 0])\n",
    "\n",
    "# 정의된 배열로 gradient 수행\n",
    "grad_default = np.gradient(fill_array2)  # 또는 default_array\n",
    "print(\"gradient of fill_array2 shape:\", [g.shape for g in grad_default])\n"
   ]
  },
  {
   "cell_type": "code",
   "execution_count": 3,
   "id": "8543f084-c33e-40e3-a9db-ec5cd36d9a95",
   "metadata": {},
   "outputs": [
    {
     "name": "stdout",
     "output_type": "stream",
     "text": [
      "∂f/∂x at center: 20.0\n",
      "∂f/∂y at center: 20.0\n",
      "∂f/∂z at center: 20.0\n"
     ]
    }
   ],
   "source": [
    "def compute_3d_gradient(f, dx, dy, dz):\n",
    "    \"\"\"\n",
    "    f : 3D 스칼라 필드 (numpy array, shape = [Nx, Ny, Nz])\n",
    "    dx, dy, dz : 각 방향의 격자 간격\n",
    "    return : gradient (gx, gy, gz) 각 방향의 미분 결과\n",
    "    \"\"\"\n",
    "    gx = np.zeros_like(f)\n",
    "    gy = np.zeros_like(f)\n",
    "    gz = np.zeros_like(f)\n",
    "\n",
    "    # 중심 차분 내부\n",
    "    gx[1:-1, :, :] = (f[2:, :, :] - f[:-2, :, :]) / (2 * dx)\n",
    "    gy[:, 1:-1, :] = (f[:, 2:, :] - f[:, :-2, :]) / (2 * dy)\n",
    "    gz[:, :, 1:-1] = (f[:, :, 2:] - f[:, :, :-2]) / (2 * dz)\n",
    "\n",
    "    # 전/후방 차분 (경계 처리)\n",
    "    gx[0, :, :] = (f[1, :, :] - f[0, :, :]) / dx\n",
    "    gx[-1, :, :] = (f[-1, :, :] - f[-2, :, :]) / dx\n",
    "\n",
    "    gy[:, 0, :] = (f[:, 1, :] - f[:, 0, :]) / dy\n",
    "    gy[:, -1, :] = (f[:, -1, :] - f[:, -2, :]) / dy\n",
    "\n",
    "    gz[:, :, 0] = (f[:, :, 1] - f[:, :, 0]) / dz\n",
    "    gz[:, :, -1] = (f[:, :, -1] - f[:, :, -2]) / dz\n",
    "\n",
    "    return gx, gy, gz\n",
    "# 격자 크기\n",
    "Nx, Ny, Nz = 100, 100, 100\n",
    "dx = dy = dz = 1\n",
    "\n",
    "# 격자 생성\n",
    "x = np.linspace(0, dx*(Nx-1), Nx)\n",
    "y = np.linspace(0, dy*(Ny-1), Ny)\n",
    "z = np.linspace(0, dz*(Nz-1), Nz)\n",
    "X, Y, Z = np.meshgrid(x, y, z, indexing='ij')\n",
    "\n",
    "# 스칼라 필드 정의: f(x, y, z) = x^2 + y^2 + z^2\n",
    "f = X**2 + Y**2 + Z**2\n",
    "\n",
    "# gradient 계산\n",
    "gx, gy, gz = compute_3d_gradient(f, dx, dy, dz)\n",
    "\n",
    "# 특정 포인트의 결과 확인\n",
    "print(\"∂f/∂x at center:\", gx[10, 0, 0])  # ≈ 2x\n",
    "print(\"∂f/∂y at center:\", gy[0, 10, 0])  # ≈ 2y\n",
    "print(\"∂f/∂z at center:\", gz[0, 0, 10])  # ≈ 2z dd\n"
   ]
  },
  {
   "cell_type": "code",
   "execution_count": 5,
   "id": "24064a10-f51c-41ec-8dc4-ed544ba7eab5",
   "metadata": {},
   "outputs": [],
   "source": [
    "def laplace_3d(f, dx, dy, dz):\n",
    "    lap = np.zeros_like(f)\n",
    "    lap[1:-1,1:-1,1:-1] = (\n",
    "        (f[2:,1:-1,1:-1] - 2*f[1:-1,1:-1,1:-1] + f[:-2,1:-1,1:-1]) / dx**2 +\n",
    "        (f[1:-1,2:,1:-1] - 2*f[1:-1,1:-1,1:-1] + f[1:-1,:-2,1:-1]) / dy**2 +\n",
    "        (f[1:-1,1:-1,2:] - 2*f[1:-1,1:-1,1:-1] + f[1:-1,1:-1,:-2]) / dz**2\n",
    "    )\n",
    "    return lap"
   ]
  },
  {
   "cell_type": "code",
   "execution_count": 16,
   "id": "644a1a09-7cf7-40aa-ba98-dae1ee6b73af",
   "metadata": {},
   "outputs": [
    {
     "name": "stdout",
     "output_type": "stream",
     "text": [
      "∂^2f/∂x^2 + ∂^2f/∂y^2 + ∂^2f/∂z^2 : 6.0\n",
      "∂^2f/∂x^2 + ∂^2f/∂y^2 + ∂^2f/∂z^2 : 72.0\n"
     ]
    }
   ],
   "source": [
    "x = np.linspace(0, 99, 100)\n",
    "y = np.linspace(0, 99, 100)\n",
    "z = np.linspace(0, 99, 100)\n",
    "dx = x[1] - x[0]\n",
    "dy = y[1] - y[0]\n",
    "dz = z[1] - z[0]\n",
    "X, Y, Z = np.meshgrid(x, y, z, indexing='ij')\n",
    "f = X**2 + Y**2 + Z**2\n",
    "f2 = X**3 + Y**3 + Z**3\n",
    "lap_f = laplace_3d(f, dx, dy, dz)\n",
    "lap_f2 = laplace_3d(f2, dx, dy, dz)\n",
    "#print(lap_f)\n",
    "print(\"∂^2f/∂x^2 + ∂^2f/∂y^2 + ∂^2f/∂z^2 :\", lap_f[1, 1, 1])  # ≈ 6\n",
    "print(\"∂^2f/∂x^2 + ∂^2f/∂y^2 + ∂^2f/∂z^2 :\", lap_f2[10, 1, 1])  # ≈ 6x + 6y + 6z"
   ]
  },
  {
   "cell_type": "code",
   "execution_count": 17,
   "id": "58a4d864-e9bd-483b-96f6-77cb250067be",
   "metadata": {},
   "outputs": [],
   "source": [
    "def partial_derivative(f, axis, dx):\n",
    "    \"\"\"\n",
    "    3D 스칼라 필드 f 에 대해 x/y/z 중 한 방향으로 1차 편미분을 수행합니다.\n",
    "    \n",
    "    Parameters:\n",
    "    - f    : (Nx, Ny, Nz) 형태의 numpy 배열\n",
    "    - axis : 'x', 'y', 'z' 중 하나 (편미분 방향)\n",
    "    - dx   : 해당 축의 격자 간격\n",
    "\n",
    "    Returns:\n",
    "    - df_daxis : 편미분 결과 (f와 동일한 shape)\n",
    "    \"\"\"\n",
    "    df = np.zeros_like(f)\n",
    "\n",
    "    if axis == 'x':\n",
    "        df[1:-1,:,:] = (f[2:,:,:] - f[:-2,:,:]) / (2*dx)\n",
    "        df[0,:,:]    = (f[1,:,:] - f[0,:,:]) / dx\n",
    "        df[-1,:,:]   = (f[-1,:,:] - f[-2,:,:]) / dx\n",
    "    elif axis == 'y':\n",
    "        df[:,1:-1,:] = (f[:,2:,:] - f[:,:-2,:]) / (2*dx)\n",
    "        df[:,0,:]    = (f[:,1,:] - f[:,0,:]) / dx\n",
    "        df[:,-1,:]   = (f[:,-1,:] - f[:,-2,:]) / dx\n",
    "    elif axis == 'z':\n",
    "        df[:,:,1:-1] = (f[:,:,2:] - f[:,:,:-2]) / (2*dx)\n",
    "        df[:,:,0]    = (f[:,:,1] - f[:,:,0]) / dx\n",
    "        df[:,:,-1]   = (f[:,:,-1] - f[:,:,-2]) / dx\n",
    "    else:\n",
    "        raise ValueError(\"axis는 'x', 'y', 'z' 중 하나여야 합니다.\")\n",
    "    \n",
    "    return df"
   ]
  },
  {
   "cell_type": "code",
   "execution_count": 18,
   "id": "aef2b673-f9ae-4cd4-8135-f8cad509f0ea",
   "metadata": {},
   "outputs": [
    {
     "name": "stdout",
     "output_type": "stream",
     "text": [
      "∂f/∂x : 2.0\n",
      "∂f/∂y : 2.0\n",
      "∂f/∂z : 2.0\n"
     ]
    }
   ],
   "source": [
    "# 격자 생성\n",
    "Domain = 100\n",
    "nx, ny, nz = 100, 100, 100\n",
    "x = np.linspace(0, Domain-1, nx)\n",
    "y = np.linspace(0, Domain-1, ny)\n",
    "z = np.linspace(0, Domain-1, nz)\n",
    "dx = x[1] - x[0]\n",
    "\n",
    "# Meshgrid\n",
    "X, Y, Z = np.meshgrid(x, y, z, indexing='ij')\n",
    "\n",
    "# f(x,y,z) = x² + y² + z²\n",
    "f = X**2 + Y**2 + Z**2\n",
    "\n",
    "# x partial_derivative\n",
    "dfdx = partial_derivative(f, 'x', dx)\n",
    "# y partial_derivative\n",
    "dfdy = partial_derivative(f, 'y', dx)\n",
    "# z partial_derivative\n",
    "dfdz = partial_derivative(f, 'z', dx)\n",
    "\n",
    "print(\"∂f/∂x :\", dfdx[1, 0, 0])  # ≈ 2\n",
    "print(\"∂f/∂y :\", dfdy[0, 1, 0])  # ≈ 2\n",
    "print(\"∂f/∂z :\", dfdz[0, 0, 1])  # ≈ 2"
   ]
  },
  {
   "cell_type": "code",
   "execution_count": null,
   "id": "b3117965-b6f5-4ec2-aba3-f1af430969b9",
   "metadata": {},
   "outputs": [],
   "source": [
    "# 격자 생성\n",
    "Domain = 100\n",
    "nx, ny, nz = 100, 100, 100\n",
    "Density = 1.225  # kg/m^3 ( 15 Celsius )\n",
    "Viscosity = 1.81e-5 # Air Viscosity"
   ]
  },
  {
   "cell_type": "code",
   "execution_count": null,
   "id": "f50a67b1-dbf1-4a48-afe8-b80ac6986b87",
   "metadata": {},
   "outputs": [],
   "source": [
    "fx = np.zeros((nx, ny, nz))\n",
    "fy = np.zeros((nx, ny, nz))\n",
    "fz = np.full((nx, ny, nz), -Density * 9.81)  # 중력 가속도 방향"
   ]
  },
  {
   "cell_type": "code",
   "execution_count": null,
   "id": "de9f4e62-c327-4c14-b73e-dcd2ebb393f0",
   "metadata": {},
   "outputs": [],
   "source": [
    "Velocity_eq =\n",
    "pressure_eq = \n",
    "Stress_eq = \n",
    "external_force_eq = "
   ]
  },
  {
   "cell_type": "code",
   "execution_count": null,
   "id": "17940313-a996-408a-bd40-0d8f72d9968c",
   "metadata": {},
   "outputs": [],
   "source": [
    "# TODO : \n",
    "# 1. electomanetic simul\n",
    "# 2. thermo simul\n",
    "# 3. Young's Modulus simul"
   ]
  },
  {
   "cell_type": "markdown",
   "id": "79004f91-b3cd-4595-b7a2-debc68296c4a",
   "metadata": {},
   "source": [
    "![nn](Navier.png)"
   ]
  },
  {
   "cell_type": "code",
   "execution_count": null,
   "id": "a61ac950-bdf4-44af-aac8-1ebcdc49b088",
   "metadata": {},
   "outputs": [],
   "source": [
    "def compute_volume_lift(u, v, w, p, rho, mu, fx, fy, fz, dx, dy, dz, dt):\n",
    "    # 시간 도함수\n",
    "    du_dt = (u_new - u_old) / dt\n",
    "    dv_dt = (v_new - v_old) / dt\n",
    "    dw_dt = (w_new - w_old) / dt\n",
    "\n",
    "    # 대류항\n",
    "    conv_u = u * gradient_3d(u, dx, dy, dz)[0] + v * gradient_3d(u, dx, dy, dz)[1] + w * gradient_3d(u, dx, dy, dz)[2]\n",
    "    conv_v = u * gradient_3d(v, dx, dy, dz)[0] + v * gradient_3d(v, dx, dy, dz)[1] + w * gradient_3d(v, dx, dy, dz)[2]\n",
    "    conv_w = u * gradient_3d(w, dx, dy, dz)[0] + v * gradient_3d(w, dx, dy, dz)[1] + w * gradient_3d(w, dx, dy, dz)[2]\n",
    "\n",
    "    # 압력 기울기\n",
    "    dp_dx, dp_dy, dp_dz = gradient_3d(p, dx, dy, dz)\n",
    "\n",
    "    # 점성항\n",
    "    lap_u = laplace_3d(u, dx, dy, dz)\n",
    "    lap_v = laplace_3d(v, dx, dy, dz)\n",
    "    lap_w = laplace_3d(w, dx, dy, dz)\n",
    "\n",
    "    # 양력 방향 성분 (예: z방향 기준)\n",
    "    integrand = -rho * (dw_dt + conv_w) - dp_dz + mu * lap_w - fz\n",
    "    Lz = np.sum(integrand) * dx * dy * dz\n",
    "    return Lz\n"
   ]
  }
 ],
 "metadata": {
  "kernelspec": {
   "display_name": "Python 3 (ipykernel)",
   "language": "python",
   "name": "python3"
  },
  "language_info": {
   "codemirror_mode": {
    "name": "ipython",
    "version": 3
   },
   "file_extension": ".py",
   "mimetype": "text/x-python",
   "name": "python",
   "nbconvert_exporter": "python",
   "pygments_lexer": "ipython3",
   "version": "3.11.2"
  }
 },
 "nbformat": 4,
 "nbformat_minor": 5
}
